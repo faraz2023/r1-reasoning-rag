{
 "cells": [
  {
   "cell_type": "code",
   "execution_count": 1,
   "metadata": {},
   "outputs": [],
   "source": [
    "from agent import QAAgent"
   ]
  },
  {
   "cell_type": "code",
   "execution_count": 3,
   "metadata": {},
   "outputs": [
    {
     "name": "stdout",
     "output_type": "stream",
     "text": [
      "\n",
      "=== STEP 1: RETRIEVAL ===\n",
      "Searching for: is the headquarter of RBC north of Sam Altman's brother's company's headquarter?\n",
      "\n",
      "=== STEP 2: VALIDATION ===\n",
      "Retrieved Context: \n",
      " Royal Bank of Canada Headquarters | addresses, contacts + More Royal Bank of Canada Headquarters Royal Bank of Canada is a Canada-based multinational banking and financial services company with headquarters in Toronto, Ontario, and head office in Montreal, Quebec. Where is Royal Bank of Canada Headquarters, office locations on Map? Where is the Royal Bank of Canada headquarters located? The contact number for customer services at Royal Bank of Canada is: Number: 1-800-769-2511 Royal Bank of Canada is a multinational diversified financial and banking services providing company that serves retail, corporate and institutional clients in Canada and the US. Royal Bank of Canada is a Canada-based multinational financial and banking services company that provides a multitude of services to a wide range of clients.\n",
      "The Royal Bank of Canada (RBC) is one of the \"Big Five\" Canadian Banks, which also includes the Bank of Montreal (BMO), Canadian Imperial Bank of Commerce (CIBC), Bank of Nova Scotia (Scotiabank), and Toronto-Dominion Bank (TD). Royal Bank Plaza is a skyscraper in Toronto that serves as the operational headquarters of RBC. In addition to RBC's operational headquarters, the skyscraper also contains the bank’s Toronto Main Branch, a shopping concourse, and is part of the Path network of underground tunnels, which links the building to the Fairmont Royal York, Brookfield Place, the TD Centre, and Union Station. How Many Countries Are There In Africa? [ ]  Countries All Countries US Maps\n",
      "RBC Capital Markets | Our Offices | United States Other RBC sites Our Offices Sustainable Finance RBC Clear RBC Elements RBC Race for the Kids Our Offices Our Offices All Global Offices 200 Vesey Street, 9th Floor New York, NY 10281 Flower Street 1801 California Street 601 New Jersey Ave NW 100 Second Avenue South 100 Commercial Street The Offices at Annapolis Town Centre Parole 225 Franklin Street RBC Gateway New Jersey 200 Park Avenue New Jersey 30 Hudson Street 30th Floor 200 Vesey Street, 9th Floor New York, NY 10281 255 East 5th Street 130 North 18th Street 17th Floor 300 Conshohocken State Road 200 Meeting Street 6th Street 609 Main Street RBC Capital Markets 609 Main Street 1918 8th Ave\n",
      "Retrieval attempt: 1/3\n",
      "reasoning: Okay, let's tackle this question step by step. The user is asking if the headquarters of RBC (Royal Bank of Canada) is north of the headquarters of Sam Altman's brother's company. \n",
      "\n",
      "First, I need to find out where RBC's headquarters is located. Looking at the provided context, it mentions that RBC has its headquarters in Toronto, Ontario, and a head office in Montreal, Quebec. There's also a mention of the Royal Bank Plaza in Toronto being the operational headquarters. So, the main headquarters is in Toronto, Ontario.\n",
      "\n",
      "Next, the question refers to Sam Altman's brother's company. Wait, Sam Altman is the CEO of OpenAI, but who is his brother? I recall that Sam Altman has a brother named Jack Altman, who is the CEO of Lattice, a HR software company. So, the company in question here is likely Lattice. Now, I need to find out where Lattice's headquarters is located. However, the provided context doesn't mention anything about Sam Altman's brother or his company. The context only talks about RBC, its offices, and some other unrelated information like countries in Africa and RBC Capital Markets offices in the US.\n",
      "\n",
      "Since the context doesn't provide any information about Sam Altman's brother's company or its headquarters location, I can't determine the geographical relationship between the two. To answer the question, I need both locations to compare their latitudes. Without knowing where Lattice's headquarters is, I can't say whether RBC's Toronto headquarters is north of it.\n",
      "\n",
      "Therefore, the status should be 'INCOMPLETE' because the necessary information about Sam Altman's brother's company's headquarters is missing. The useful information here is the location of RBC's headquarters in Toronto, but the missing part is the location of the other company's headquarters.\n",
      "router decision: INCOMPLETE\n",
      "missing information: Location of Sam Altman's brother's company headquarters\n",
      "useful information: Royal Bank of Canada's headquarters is in Toronto, Ontario, with its operational headquarters at Royal Bank Plaza in Toronto.\n",
      "Missing Information: Location of Sam Altman's brother's company headquarters\n",
      "\n",
      "=== STEP 2b: FINDING MISSING INFORMATION ===\n",
      "Searching for: Location of Sam Altman's brother's company headquarters\n",
      "newly retrieved context: The Altman Brothers Corporate Headquarters, Office Locations and Addresses | Craft.co. Advanced. Product. Solutions. Partners. Resources. Company. Toggle menu. ... Header placeholder lorem ipsum dolor sit amet, consectetur adipiscing elit. Button CTA. The Altman Brothers is headquartered in Los Angeles, 103 S Robertson Blvd, United States, and\n",
      "Who are Sam Altman's brothers Jack and Max? Who are Sam Altman’s brothers Jack and Max? His estranged sister Ann works as an artist, author and podcast creator - but here’s all you need to know about his two younger brothers, Max and Jack. Sam Altman is the CEO of OpenAI and co-founded ChatGPTCredit: AFP Who is Max Altman? HUMANNIE ### All we know about Sam Altman's sister Ann Jack, who is the youngest of the three brothers, worked at Hydrazine Capital and Altman Capital. The Altman’s mother, Connie, previously told the New Yorker: “I think Sam likes having his brothers around because they knew him when, and can give him pushback in ways that other people can’t.”\n",
      "LA Flagship Office - The Altman Brothers Our Offices Our Offices Our Offices Home > LA Flagship Office Below the signage is 10” high volume of vertical storefront glass connected to an optically shaped rotunda corner and 60 linear feet of world class commissioned modern street art. Beverly Hills Office Beverly Hills Celebrity Real Estate Beverly Hills Million Dollar Listings Beverly Hills A-List Real Estate Beverly Hills California Luxury Real Estate Beverly Hills Luxury Real Estate Agents ALL PROPERTY INFORMATION, INCLUDING, BUT NOT LIMITED TO SQUARE FOOTAGE, ROOM COUNT, NUMBER OF BEDROOMS AND THE SCHOOL DISTRICT IN PROPERTY LISTINGS SHOULD BE VERIFIED BY YOUR OWN ATTORNEY, ARCHITECT OR ZONING EXPERT. IF YOUR PROPERTY IS CURRENTLY LISTED WITH ANOTHER REAL ESTATE BROKER, PLEASE DISREGARD THIS OFFER.\n",
      "\n",
      "=== STEP 2: VALIDATION ===\n",
      "Retrieved Context: \n",
      " Royal Bank of Canada's headquarters is in Toronto, Ontario, with its operational headquarters at Royal Bank Plaza in Toronto.\n",
      "The Altman Brothers Corporate Headquarters, Office Locations and Addresses | Craft.co. Advanced. Product. Solutions. Partners. Resources. Company. Toggle menu. ... Header placeholder lorem ipsum dolor sit amet, consectetur adipiscing elit. Button CTA. The Altman Brothers is headquartered in Los Angeles, 103 S Robertson Blvd, United States, and\n",
      "Who are Sam Altman's brothers Jack and Max? Who are Sam Altman’s brothers Jack and Max? His estranged sister Ann works as an artist, author and podcast creator - but here’s all you need to know about his two younger brothers, Max and Jack. Sam Altman is the CEO of OpenAI and co-founded ChatGPTCredit: AFP Who is Max Altman? HUMANNIE ### All we know about Sam Altman's sister Ann Jack, who is the youngest of the three brothers, worked at Hydrazine Capital and Altman Capital. The Altman’s mother, Connie, previously told the New Yorker: “I think Sam likes having his brothers around because they knew him when, and can give him pushback in ways that other people can’t.”\n",
      "LA Flagship Office - The Altman Brothers Our Offices Our Offices Our Offices Home > LA Flagship Office Below the signage is 10” high volume of vertical storefront glass connected to an optically shaped rotunda corner and 60 linear feet of world class commissioned modern street art. Beverly Hills Office Beverly Hills Celebrity Real Estate Beverly Hills Million Dollar Listings Beverly Hills A-List Real Estate Beverly Hills California Luxury Real Estate Beverly Hills Luxury Real Estate Agents ALL PROPERTY INFORMATION, INCLUDING, BUT NOT LIMITED TO SQUARE FOOTAGE, ROOM COUNT, NUMBER OF BEDROOMS AND THE SCHOOL DISTRICT IN PROPERTY LISTINGS SHOULD BE VERIFIED BY YOUR OWN ATTORNEY, ARCHITECT OR ZONING EXPERT. IF YOUR PROPERTY IS CURRENTLY LISTED WITH ANOTHER REAL ESTATE BROKER, PLEASE DISREGARD THIS OFFER.\n",
      "Retrieval attempt: 2/3\n",
      "reasoning: Okay, let's tackle this question. The user wants to know if the headquarters of RBC (Royal Bank of Canada) is north of Sam Altman's brother's company's headquarters. \n",
      "\n",
      "First, I need to find the locations of both headquarters from the provided context. \n",
      "\n",
      "Looking at the context, the Royal Bank of Canada's headquarters is in Toronto, Ontario, specifically at the Royal Bank Plaza in Toronto. That's clear.\n",
      "\n",
      "Now, for Sam Altman's brother's company. The context mentions \"The Altman Brothers\" and their headquarters. It states that The Altman Brothers is headquartered in Los Angeles at 103 S Robertson Blvd, United States. Also, there's mention of a Beverly Hills office, but the main headquarters seems to be in Los Angeles. \n",
      "\n",
      "So, RBC is in Toronto, Canada, and The Altman Brothers are in Los Angeles, USA. To determine if Toronto is north of Los Angeles, I need to compare their latitudes. Toronto's latitude is approximately 43.70° N, and Los Angeles is around 34.05° N. Since 43.70° N is higher than 34.05° N, Toronto is indeed north of Los Angeles. \n",
      "\n",
      "The provided chunks confirm both locations. There's no missing information here. The answer should be \"COMPLETE\" with the useful info stating that RBC's HQ is in Toronto and Altman's in LA, making Toronto north. No missing data needed.\n",
      "router decision: COMPLETE\n",
      "missing information: \n",
      "useful information: Royal Bank of Canada's headquarters is in Toronto, Ontario. The Altman Brothers company's headquarters is in Los Angeles, 103 S Robertson Blvd, United States. Toronto (43.70° N) is north of Los Angeles (34.05° N).\n",
      "\n",
      "=== STEP 3: ANSWERING ===\n"
     ]
    },
    {
     "data": {
      "text/plain": [
       "'Yes.'"
      ]
     },
     "execution_count": 3,
     "metadata": {},
     "output_type": "execute_result"
    }
   ],
   "source": [
    "agent = QAAgent(max_num_retrieve=3)\n",
    "#agent.run(\"what is the capital city of Canada?\")\n",
    "agent.run(\"is the headquarter of RBC north of Sam Altman's brother's company's headquarter?\")"
   ]
  },
  {
   "cell_type": "code",
   "execution_count": null,
   "metadata": {},
   "outputs": [],
   "source": []
  }
 ],
 "metadata": {
  "kernelspec": {
   "display_name": "venv",
   "language": "python",
   "name": "python3"
  },
  "language_info": {
   "codemirror_mode": {
    "name": "ipython",
    "version": 3
   },
   "file_extension": ".py",
   "mimetype": "text/x-python",
   "name": "python",
   "nbconvert_exporter": "python",
   "pygments_lexer": "ipython3",
   "version": "3.10.11"
  }
 },
 "nbformat": 4,
 "nbformat_minor": 2
}
